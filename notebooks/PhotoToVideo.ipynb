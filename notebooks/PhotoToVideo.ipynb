{
 "cells": [
  {
   "cell_type": "code",
   "execution_count": 1,
   "metadata": {},
   "outputs": [
    {
     "name": "stderr",
     "output_type": "stream",
     "text": [
      "Processing images: 100%|██████████| 1594/1594 [00:22<00:00, 69.52image/s]"
     ]
    },
    {
     "name": "stdout",
     "output_type": "stream",
     "text": [
      "Video saved at: C:\\Users\\kunal\\OneDrive\\Desktop\\Sudisa\\Labels\\Output.mp4\n"
     ]
    },
    {
     "name": "stderr",
     "output_type": "stream",
     "text": [
      "\n"
     ]
    }
   ],
   "source": [
    "import cv2\n",
    "import os\n",
    "from tqdm import tqdm\n",
    "\n",
    "# Prompt user for the input folder path containing images\n",
    "images_folder = input(\"Enter the path to the images folder: \")\n",
    "output_video_path = input(\"Enter the output video file path (e.g., 'output_video.mp4'): \")\n",
    "\n",
    "# Check if images_folder exists\n",
    "if not os.path.exists(images_folder):\n",
    "    print(f\"Error: The folder '{images_folder}' does not exist.\")\n",
    "    exit()\n",
    "\n",
    "# Get list of image files (only .jpg, .jpeg, .png)\n",
    "image_extensions = [\".jpg\", \".jpeg\", \".png\"]\n",
    "image_files = sorted([f for f in os.listdir(images_folder) if os.path.splitext(f)[1].lower() in image_extensions])\n",
    "\n",
    "# Check if any images were found\n",
    "if len(image_files) == 0:\n",
    "    print(\"Error: No images found in the folder!\")\n",
    "    exit()\n",
    "\n",
    "# Read the first image to get the frame size\n",
    "first_image_path = os.path.join(images_folder, image_files[0])\n",
    "first_image = cv2.imread(first_image_path)\n",
    "\n",
    "# Check if the first image was successfully loaded\n",
    "if first_image is None:\n",
    "    print(f\"Error: Unable to read the first image '{first_image_path}'.\")\n",
    "    exit()\n",
    "\n",
    "height, width, _ = first_image.shape\n",
    "\n",
    "# Create a video writer object\n",
    "fourcc = cv2.VideoWriter_fourcc(*'mp4v')  # Codec for .mp4 video\n",
    "fps = 30  # Frames per second\n",
    "video_writer = cv2.VideoWriter(output_video_path, fourcc, fps, (width, height))\n",
    "\n",
    "# Check if video writer is successfully opened\n",
    "if not video_writer.isOpened():\n",
    "    print(\"Error: Unable to open video writer.\")\n",
    "    exit()\n",
    "\n",
    "# Use tqdm to display progress bar while processing images\n",
    "for image_file in tqdm(image_files, desc=\"Processing images\", unit=\"image\"):\n",
    "    image_path = os.path.join(images_folder, image_file)\n",
    "    image = cv2.imread(image_path)\n",
    "\n",
    "    # Check if the image was successfully loaded\n",
    "    if image is None:\n",
    "        print(f\"Warning: Unable to read image '{image_file}', skipping.\")\n",
    "        continue\n",
    "\n",
    "    # Write the image to the video\n",
    "    video_writer.write(image)\n",
    "\n",
    "# Release the video writer object and finalize the video\n",
    "video_writer.release()\n",
    "\n",
    "print(f\"Video saved at: {output_video_path}\")\n"
   ]
  },
  {
   "cell_type": "code",
   "execution_count": null,
   "metadata": {},
   "outputs": [],
   "source": []
  }
 ],
 "metadata": {
  "kernelspec": {
   "display_name": "Python 3",
   "language": "python",
   "name": "python3"
  },
  "language_info": {
   "codemirror_mode": {
    "name": "ipython",
    "version": 3
   },
   "file_extension": ".py",
   "mimetype": "text/x-python",
   "name": "python",
   "nbconvert_exporter": "python",
   "pygments_lexer": "ipython3",
   "version": "3.11.9"
  }
 },
 "nbformat": 4,
 "nbformat_minor": 2
}
